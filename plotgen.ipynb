{
 "cells": [
  {
   "cell_type": "code",
   "execution_count": 119,
   "metadata": {},
   "outputs": [],
   "source": [
    "import pandas as pd\n",
    "import ast\n",
    "import numpy as np\n",
    "import seaborn as sns\n",
    "from itertools import product\n",
    "from tqdm import tqdm\n",
    "from sklearn.ensemble import RandomForestClassifier\n",
    "from sklearn.linear_model import LogisticRegression\n",
    "import matplotlib.pyplot as plt\n"
   ]
  },
  {
   "cell_type": "code",
   "execution_count": 120,
   "metadata": {},
   "outputs": [],
   "source": [
    "def manual_error_rate(df, models=None, proba=False, diag=False):\n",
    "    features = df['feature']\n",
    "    labels = df['label']\n",
    "\n",
    "    arr_len = len(features[0])\n",
    "    tot_enumerations = 2**arr_len\n",
    "\n",
    "    permutations = list(product([0, 1], repeat=arr_len))\n",
    "\n",
    "    results = []\n",
    "    results_p_1 = []\n",
    "    results_p_2 = []\n",
    "\n",
    "    for perm in tqdm(permutations, total=tot_enumerations, desc=\"Processing permutations\"):\n",
    "        perm_array = np.array(perm)\n",
    "        count = 0\n",
    "        error_count = 0\n",
    "\n",
    "        for feature, label in zip(features, labels):\n",
    "            if np.array_equal(feature, perm_array):\n",
    "                count += 1\n",
    "                if label == 0:\n",
    "                    error_count += 1\n",
    "        if count > 0:\n",
    "          error_rate = (error_count / count)\n",
    "          results.append([perm, error_rate])\n",
    "          proba_score = 0\n",
    "          if proba:\n",
    "            rf_score = models[0].predict_proba(np.array(perm).reshape(1, -1))[0][0]\n",
    "            lr_score = models[1].predict_proba(np.array(perm).reshape(1, -1))[0][0]\n",
    "            results_p_1.append([perm, rf_score])\n",
    "            results_p_2.append([perm, lr_score])\n",
    "          if diag: print(f\"permutation {perm}: manual error rate is {error_rate*100:.2f}%, proba_score is {proba_score*100:.2f}% appears {count} times\")\n",
    "\n",
    "    if proba: return np.array(results, dtype=object), np.array(results_p_1, dtype=object), np.array(results_p_2, dtype=object)\n",
    "    else: return np.array(results, dtype=object)\n",
    "\n",
    "\n",
    "def repopulate_sample(sample, total_manual, model=None):\n",
    "    tmp = []\n",
    "    for i, entry in enumerate(total_manual):\n",
    "        exist = next((row for row in sample if row[0] == entry[0]), None)\n",
    "        if exist is not None:\n",
    "            tmp.append([exist[0], exist[1]])\n",
    "        else:\n",
    "            if model is not None:\n",
    "                tmp.append([entry[0], model.predict_proba(np.array(entry[0]).reshape(1, -1))[0][0]])\n",
    "            else:\n",
    "                tmp.append([entry[0], 0.5])\n",
    "    return np.array(tmp, dtype=object)"
   ]
  },
  {
   "cell_type": "markdown",
   "metadata": {},
   "source": [
    "# Grid Search for Plot Generation"
   ]
  },
  {
   "cell_type": "code",
   "execution_count": 121,
   "metadata": {},
   "outputs": [
    {
     "name": "stdout",
     "output_type": "stream",
     "text": [
      " ---- Testing feature size: 4 ---- \n",
      "Calculating Total Manual Error Rates\n"
     ]
    },
    {
     "name": "stderr",
     "output_type": "stream",
     "text": [
      "Processing permutations: 100%|██████████| 16/16 [00:01<00:00, 10.07it/s]\n"
     ]
    },
    {
     "name": "stdout",
     "output_type": "stream",
     "text": [
      "## Sample size: 100\n",
      "Calculating Sample Manual and Proba Error Rates\n"
     ]
    },
    {
     "name": "stderr",
     "output_type": "stream",
     "text": [
      "Processing permutations: 100%|██████████| 16/16 [00:00<00:00, 695.71it/s]\n"
     ]
    },
    {
     "name": "stdout",
     "output_type": "stream",
     "text": [
      "-> RF Ratio: 1.33, LR Ratio: 1.02, Hardness: 6.25\n",
      "## Sample size: 500\n",
      "Calculating Sample Manual and Proba Error Rates\n"
     ]
    },
    {
     "name": "stderr",
     "output_type": "stream",
     "text": [
      "Processing permutations: 100%|██████████| 16/16 [00:00<00:00, 393.99it/s]\n"
     ]
    },
    {
     "name": "stdout",
     "output_type": "stream",
     "text": [
      "-> RF Ratio: 0.88, LR Ratio: 1.37, Hardness: 31.25\n",
      "## Sample size: 5000\n",
      "Calculating Sample Manual and Proba Error Rates\n"
     ]
    },
    {
     "name": "stderr",
     "output_type": "stream",
     "text": [
      "Processing permutations: 100%|██████████| 16/16 [00:00<00:00, 46.23it/s]\n"
     ]
    },
    {
     "name": "stdout",
     "output_type": "stream",
     "text": [
      "-> RF Ratio: 0.71, LR Ratio: 1.97, Hardness: 312.50\n",
      "## Sample size: 10000\n",
      "Calculating Sample Manual and Proba Error Rates\n"
     ]
    },
    {
     "name": "stderr",
     "output_type": "stream",
     "text": [
      "Processing permutations: 100%|██████████| 16/16 [00:00<00:00, 28.96it/s]\n"
     ]
    },
    {
     "name": "stdout",
     "output_type": "stream",
     "text": [
      "-> RF Ratio: 0.91, LR Ratio: 2.02, Hardness: 625.00\n",
      "\n",
      " ---- Testing feature size: 5 ---- \n",
      "Calculating Total Manual Error Rates\n"
     ]
    },
    {
     "name": "stderr",
     "output_type": "stream",
     "text": [
      "Processing permutations: 100%|██████████| 32/32 [00:03<00:00,  9.90it/s]\n"
     ]
    },
    {
     "name": "stdout",
     "output_type": "stream",
     "text": [
      "## Sample size: 100\n",
      "Calculating Sample Manual and Proba Error Rates\n"
     ]
    },
    {
     "name": "stderr",
     "output_type": "stream",
     "text": [
      "Processing permutations: 100%|██████████| 32/32 [00:00<00:00, 729.96it/s]\n"
     ]
    },
    {
     "name": "stdout",
     "output_type": "stream",
     "text": [
      "-> RF Ratio: 1.34, LR Ratio: 0.86, Hardness: 3.12\n",
      "## Sample size: 500\n",
      "Calculating Sample Manual and Proba Error Rates\n"
     ]
    },
    {
     "name": "stderr",
     "output_type": "stream",
     "text": [
      "Processing permutations: 100%|██████████| 32/32 [00:00<00:00, 390.04it/s]\n"
     ]
    },
    {
     "name": "stdout",
     "output_type": "stream",
     "text": [
      "-> RF Ratio: 1.23, LR Ratio: 1.26, Hardness: 15.62\n",
      "## Sample size: 5000\n",
      "Calculating Sample Manual and Proba Error Rates\n"
     ]
    },
    {
     "name": "stderr",
     "output_type": "stream",
     "text": [
      "Processing permutations: 100%|██████████| 32/32 [00:00<00:00, 60.54it/s]\n"
     ]
    },
    {
     "name": "stdout",
     "output_type": "stream",
     "text": [
      "-> RF Ratio: 0.39, LR Ratio: 1.07, Hardness: 156.25\n",
      "## Sample size: 10000\n",
      "Calculating Sample Manual and Proba Error Rates\n"
     ]
    },
    {
     "name": "stderr",
     "output_type": "stream",
     "text": [
      "Processing permutations: 100%|██████████| 32/32 [00:00<00:00, 35.85it/s]\n"
     ]
    },
    {
     "name": "stdout",
     "output_type": "stream",
     "text": [
      "-> RF Ratio: 0.78, LR Ratio: 1.63, Hardness: 312.50\n",
      "\n",
      " ---- Testing feature size: 6 ---- \n",
      "Calculating Total Manual Error Rates\n"
     ]
    },
    {
     "name": "stderr",
     "output_type": "stream",
     "text": [
      "Processing permutations: 100%|██████████| 64/64 [00:06<00:00,  9.64it/s]\n"
     ]
    },
    {
     "name": "stdout",
     "output_type": "stream",
     "text": [
      "## Sample size: 100\n",
      "Calculating Sample Manual and Proba Error Rates\n"
     ]
    },
    {
     "name": "stderr",
     "output_type": "stream",
     "text": [
      "Processing permutations: 100%|██████████| 64/64 [00:00<00:00, 1137.26it/s]\n"
     ]
    },
    {
     "name": "stdout",
     "output_type": "stream",
     "text": [
      "-> RF Ratio: 0.75, LR Ratio: 0.46, Hardness: 1.56\n",
      "## Sample size: 500\n",
      "Calculating Sample Manual and Proba Error Rates\n"
     ]
    },
    {
     "name": "stderr",
     "output_type": "stream",
     "text": [
      "Processing permutations: 100%|██████████| 64/64 [00:00<00:00, 446.51it/s]"
     ]
    },
    {
     "name": "stdout",
     "output_type": "stream",
     "text": [
      "-> RF Ratio: 0.55, LR Ratio: 0.48, Hardness: 7.81\n",
      "## Sample size: 5000\n"
     ]
    },
    {
     "name": "stderr",
     "output_type": "stream",
     "text": [
      "\n"
     ]
    },
    {
     "name": "stdout",
     "output_type": "stream",
     "text": [
      "Calculating Sample Manual and Proba Error Rates\n"
     ]
    },
    {
     "name": "stderr",
     "output_type": "stream",
     "text": [
      "Processing permutations: 100%|██████████| 64/64 [00:00<00:00, 68.17it/s]\n"
     ]
    },
    {
     "name": "stdout",
     "output_type": "stream",
     "text": [
      "-> RF Ratio: 0.33, LR Ratio: 0.67, Hardness: 78.12\n",
      "## Sample size: 10000\n",
      "Calculating Sample Manual and Proba Error Rates\n"
     ]
    },
    {
     "name": "stderr",
     "output_type": "stream",
     "text": [
      "Processing permutations: 100%|██████████| 64/64 [00:01<00:00, 38.01it/s]\n"
     ]
    },
    {
     "name": "stdout",
     "output_type": "stream",
     "text": [
      "-> RF Ratio: 0.42, LR Ratio: 1.06, Hardness: 156.25\n",
      "\n",
      " ---- Testing feature size: 7 ---- \n",
      "Calculating Total Manual Error Rates\n"
     ]
    },
    {
     "name": "stderr",
     "output_type": "stream",
     "text": [
      "Processing permutations: 100%|██████████| 128/128 [00:13<00:00,  9.48it/s]\n"
     ]
    },
    {
     "name": "stdout",
     "output_type": "stream",
     "text": [
      "## Sample size: 100\n",
      "Calculating Sample Manual and Proba Error Rates\n"
     ]
    },
    {
     "name": "stderr",
     "output_type": "stream",
     "text": [
      "Processing permutations: 100%|██████████| 128/128 [00:00<00:00, 959.20it/s] \n"
     ]
    },
    {
     "name": "stdout",
     "output_type": "stream",
     "text": [
      "-> RF Ratio: 0.61, LR Ratio: 0.38, Hardness: 0.78\n",
      "## Sample size: 500\n",
      "Calculating Sample Manual and Proba Error Rates\n"
     ]
    },
    {
     "name": "stderr",
     "output_type": "stream",
     "text": [
      "Processing permutations: 100%|██████████| 128/128 [00:00<00:00, 497.64it/s]\n"
     ]
    },
    {
     "name": "stdout",
     "output_type": "stream",
     "text": [
      "-> RF Ratio: 0.73, LR Ratio: 0.37, Hardness: 3.91\n",
      "## Sample size: 5000\n",
      "Calculating Sample Manual and Proba Error Rates\n"
     ]
    },
    {
     "name": "stderr",
     "output_type": "stream",
     "text": [
      "Processing permutations: 100%|██████████| 128/128 [00:01<00:00, 73.46it/s]\n"
     ]
    },
    {
     "name": "stdout",
     "output_type": "stream",
     "text": [
      "-> RF Ratio: 0.46, LR Ratio: 0.61, Hardness: 39.06\n",
      "## Sample size: 10000\n",
      "Calculating Sample Manual and Proba Error Rates\n"
     ]
    },
    {
     "name": "stderr",
     "output_type": "stream",
     "text": [
      "Processing permutations: 100%|██████████| 128/128 [00:03<00:00, 39.34it/s]\n"
     ]
    },
    {
     "name": "stdout",
     "output_type": "stream",
     "text": [
      "-> RF Ratio: 0.52, LR Ratio: 0.78, Hardness: 78.12\n",
      "\n",
      " ---- Testing feature size: 8 ---- \n",
      "Calculating Total Manual Error Rates\n"
     ]
    },
    {
     "name": "stderr",
     "output_type": "stream",
     "text": [
      "Processing permutations: 100%|██████████| 256/256 [00:27<00:00,  9.31it/s]\n"
     ]
    },
    {
     "name": "stdout",
     "output_type": "stream",
     "text": [
      "## Sample size: 100\n",
      "Calculating Sample Manual and Proba Error Rates\n"
     ]
    },
    {
     "name": "stderr",
     "output_type": "stream",
     "text": [
      "Processing permutations: 100%|██████████| 256/256 [00:00<00:00, 1895.87it/s]\n"
     ]
    },
    {
     "name": "stdout",
     "output_type": "stream",
     "text": [
      "-> RF Ratio: 0.56, LR Ratio: 0.41, Hardness: 0.39\n",
      "## Sample size: 500\n",
      "Calculating Sample Manual and Proba Error Rates\n"
     ]
    },
    {
     "name": "stderr",
     "output_type": "stream",
     "text": [
      "Processing permutations: 100%|██████████| 256/256 [00:00<00:00, 574.48it/s]\n"
     ]
    },
    {
     "name": "stdout",
     "output_type": "stream",
     "text": [
      "-> RF Ratio: 0.67, LR Ratio: 0.40, Hardness: 1.95\n",
      "## Sample size: 5000\n",
      "Calculating Sample Manual and Proba Error Rates\n"
     ]
    },
    {
     "name": "stderr",
     "output_type": "stream",
     "text": [
      "Processing permutations: 100%|██████████| 256/256 [00:03<00:00, 75.08it/s]\n"
     ]
    },
    {
     "name": "stdout",
     "output_type": "stream",
     "text": [
      "-> RF Ratio: 0.58, LR Ratio: 0.57, Hardness: 19.53\n",
      "## Sample size: 10000\n",
      "Calculating Sample Manual and Proba Error Rates\n"
     ]
    },
    {
     "name": "stderr",
     "output_type": "stream",
     "text": [
      "Processing permutations: 100%|██████████| 256/256 [00:06<00:00, 38.82it/s]\n"
     ]
    },
    {
     "name": "stdout",
     "output_type": "stream",
     "text": [
      "-> RF Ratio: 0.65, LR Ratio: 0.75, Hardness: 39.06\n",
      "\n",
      " ---- Testing feature size: 9 ---- \n",
      "Calculating Total Manual Error Rates\n"
     ]
    },
    {
     "name": "stderr",
     "output_type": "stream",
     "text": [
      "Processing permutations: 100%|██████████| 512/512 [00:56<00:00,  9.13it/s]\n"
     ]
    },
    {
     "name": "stdout",
     "output_type": "stream",
     "text": [
      "## Sample size: 100\n",
      "Calculating Sample Manual and Proba Error Rates\n"
     ]
    },
    {
     "name": "stderr",
     "output_type": "stream",
     "text": [
      "Processing permutations: 100%|██████████| 512/512 [00:00<00:00, 2562.46it/s]\n"
     ]
    },
    {
     "name": "stdout",
     "output_type": "stream",
     "text": [
      "-> RF Ratio: 0.49, LR Ratio: 0.39, Hardness: 0.20\n",
      "## Sample size: 500\n",
      "Calculating Sample Manual and Proba Error Rates\n"
     ]
    },
    {
     "name": "stderr",
     "output_type": "stream",
     "text": [
      "Processing permutations: 100%|██████████| 512/512 [00:00<00:00, 670.42it/s]\n"
     ]
    },
    {
     "name": "stdout",
     "output_type": "stream",
     "text": [
      "-> RF Ratio: 0.54, LR Ratio: 0.34, Hardness: 0.98\n",
      "## Sample size: 5000\n",
      "Calculating Sample Manual and Proba Error Rates\n"
     ]
    },
    {
     "name": "stderr",
     "output_type": "stream",
     "text": [
      "Processing permutations: 100%|██████████| 512/512 [00:06<00:00, 76.66it/s]\n"
     ]
    },
    {
     "name": "stdout",
     "output_type": "stream",
     "text": [
      "-> RF Ratio: 0.54, LR Ratio: 0.44, Hardness: 9.77\n",
      "## Sample size: 10000\n",
      "Calculating Sample Manual and Proba Error Rates\n"
     ]
    },
    {
     "name": "stderr",
     "output_type": "stream",
     "text": [
      "Processing permutations: 100%|██████████| 512/512 [00:12<00:00, 39.84it/s]\n"
     ]
    },
    {
     "name": "stdout",
     "output_type": "stream",
     "text": [
      "-> RF Ratio: 0.57, LR Ratio: 0.56, Hardness: 19.53\n",
      "\n",
      " ---- Testing feature size: 10 ---- \n",
      "Calculating Total Manual Error Rates\n"
     ]
    },
    {
     "name": "stderr",
     "output_type": "stream",
     "text": [
      "Processing permutations: 100%|██████████| 1024/1024 [01:55<00:00,  8.88it/s]\n"
     ]
    },
    {
     "name": "stdout",
     "output_type": "stream",
     "text": [
      "## Sample size: 100\n",
      "Calculating Sample Manual and Proba Error Rates\n"
     ]
    },
    {
     "name": "stderr",
     "output_type": "stream",
     "text": [
      "Processing permutations: 100%|██████████| 1024/1024 [00:00<00:00, 2996.20it/s]\n"
     ]
    },
    {
     "name": "stdout",
     "output_type": "stream",
     "text": [
      "-> RF Ratio: 0.52, LR Ratio: 0.43, Hardness: 0.10\n",
      "## Sample size: 500\n",
      "Calculating Sample Manual and Proba Error Rates\n"
     ]
    },
    {
     "name": "stderr",
     "output_type": "stream",
     "text": [
      "Processing permutations: 100%|██████████| 1024/1024 [00:01<00:00, 728.60it/s]\n"
     ]
    },
    {
     "name": "stdout",
     "output_type": "stream",
     "text": [
      "-> RF Ratio: 0.58, LR Ratio: 0.38, Hardness: 0.49\n",
      "## Sample size: 5000\n",
      "Calculating Sample Manual and Proba Error Rates\n"
     ]
    },
    {
     "name": "stderr",
     "output_type": "stream",
     "text": [
      "Processing permutations: 100%|██████████| 1024/1024 [00:13<00:00, 77.45it/s]\n"
     ]
    },
    {
     "name": "stdout",
     "output_type": "stream",
     "text": [
      "-> RF Ratio: 0.54, LR Ratio: 0.45, Hardness: 4.88\n",
      "## Sample size: 10000\n",
      "Calculating Sample Manual and Proba Error Rates\n"
     ]
    },
    {
     "name": "stderr",
     "output_type": "stream",
     "text": [
      "Processing permutations: 100%|██████████| 1024/1024 [00:26<00:00, 39.22it/s]\n"
     ]
    },
    {
     "name": "stdout",
     "output_type": "stream",
     "text": [
      "-> RF Ratio: 0.60, LR Ratio: 0.56, Hardness: 9.77\n",
      "\n",
      " ---- Testing feature size: 11 ---- \n",
      "Calculating Total Manual Error Rates\n"
     ]
    },
    {
     "name": "stderr",
     "output_type": "stream",
     "text": [
      "Processing permutations: 100%|██████████| 2048/2048 [03:53<00:00,  8.76it/s]\n"
     ]
    },
    {
     "name": "stdout",
     "output_type": "stream",
     "text": [
      "## Sample size: 100\n",
      "Calculating Sample Manual and Proba Error Rates\n"
     ]
    },
    {
     "name": "stderr",
     "output_type": "stream",
     "text": [
      "Processing permutations: 100%|██████████| 2048/2048 [00:00<00:00, 3467.37it/s]\n"
     ]
    },
    {
     "name": "stdout",
     "output_type": "stream",
     "text": [
      "-> RF Ratio: 0.53, LR Ratio: 0.48, Hardness: 0.05\n",
      "## Sample size: 500\n",
      "Calculating Sample Manual and Proba Error Rates\n"
     ]
    },
    {
     "name": "stderr",
     "output_type": "stream",
     "text": [
      "Processing permutations: 100%|██████████| 2048/2048 [00:02<00:00, 749.38it/s]\n"
     ]
    },
    {
     "name": "stdout",
     "output_type": "stream",
     "text": [
      "-> RF Ratio: 0.57, LR Ratio: 0.43, Hardness: 0.24\n",
      "## Sample size: 5000\n",
      "Calculating Sample Manual and Proba Error Rates\n"
     ]
    },
    {
     "name": "stderr",
     "output_type": "stream",
     "text": [
      "Processing permutations: 100%|██████████| 2048/2048 [00:26<00:00, 77.40it/s]\n"
     ]
    },
    {
     "name": "stdout",
     "output_type": "stream",
     "text": [
      "-> RF Ratio: 0.52, LR Ratio: 0.47, Hardness: 2.44\n",
      "## Sample size: 10000\n",
      "Calculating Sample Manual and Proba Error Rates\n"
     ]
    },
    {
     "name": "stderr",
     "output_type": "stream",
     "text": [
      "Processing permutations: 100%|██████████| 2048/2048 [00:52<00:00, 39.26it/s]\n"
     ]
    },
    {
     "name": "stdout",
     "output_type": "stream",
     "text": [
      "-> RF Ratio: 0.58, LR Ratio: 0.61, Hardness: 4.88\n",
      "\n",
      " ---- Testing feature size: 12 ---- \n",
      "Calculating Total Manual Error Rates\n"
     ]
    },
    {
     "name": "stderr",
     "output_type": "stream",
     "text": [
      "Processing permutations: 100%|██████████| 4096/4096 [05:53<00:00, 11.58it/s]\n"
     ]
    },
    {
     "name": "stdout",
     "output_type": "stream",
     "text": [
      "## Sample size: 100\n",
      "Calculating Sample Manual and Proba Error Rates\n"
     ]
    },
    {
     "name": "stderr",
     "output_type": "stream",
     "text": [
      "Processing permutations: 100%|██████████| 4096/4096 [00:00<00:00, 5498.78it/s]\n"
     ]
    },
    {
     "name": "stdout",
     "output_type": "stream",
     "text": [
      "-> RF Ratio: 0.56, LR Ratio: 0.54, Hardness: 0.02\n",
      "## Sample size: 500\n",
      "Calculating Sample Manual and Proba Error Rates\n"
     ]
    },
    {
     "name": "stderr",
     "output_type": "stream",
     "text": [
      "Processing permutations: 100%|██████████| 4096/4096 [00:03<00:00, 1151.74it/s]\n"
     ]
    },
    {
     "name": "stdout",
     "output_type": "stream",
     "text": [
      "-> RF Ratio: 0.62, LR Ratio: 0.50, Hardness: 0.12\n",
      "## Sample size: 5000\n",
      "Calculating Sample Manual and Proba Error Rates\n"
     ]
    },
    {
     "name": "stderr",
     "output_type": "stream",
     "text": [
      "Processing permutations: 100%|██████████| 4096/4096 [00:36<00:00, 112.85it/s]\n"
     ]
    },
    {
     "name": "stdout",
     "output_type": "stream",
     "text": [
      "-> RF Ratio: 0.54, LR Ratio: 0.53, Hardness: 1.22\n",
      "## Sample size: 10000\n",
      "Calculating Sample Manual and Proba Error Rates\n"
     ]
    },
    {
     "name": "stderr",
     "output_type": "stream",
     "text": [
      "Processing permutations: 100%|██████████| 4096/4096 [01:12<00:00, 56.66it/s]\n"
     ]
    },
    {
     "name": "stdout",
     "output_type": "stream",
     "text": [
      "-> RF Ratio: 0.59, LR Ratio: 0.66, Hardness: 2.44\n",
      "\n"
     ]
    }
   ],
   "source": [
    "all_features = np.arange(4, 13)\n",
    "all_sample_sizes = [100, 500, 5000, 10000]\n",
    "\n",
    "\n",
    "orig_reconstruct = pd.read_csv(\"rec.csv\")\n",
    "orig_reconstruct[\"feature\"] = orig_reconstruct[\"feature\"].apply(ast.literal_eval)\n",
    "orig_reconstruct[\"feature\"] = orig_reconstruct[\"feature\"].apply(lambda x: x[-1:] + x[:-1])\n",
    "\n",
    "#grid search features and sample sizes (brute force all and get array of all combination [ratio, hardness])\n",
    "\n",
    "results = []\n",
    "for feature_size in all_features:\n",
    "    print(f\" ---- Testing feature size: {feature_size} ---- \")\n",
    "    # ---- Load CNN Model Preds ----\n",
    "    #clip each feature from the right (.ie if each feature has length 14 and i spefcify feature size of 12, remove the right 2 elements from each feature)\n",
    "    reconstruct = orig_reconstruct.copy()\n",
    "    reconstruct[\"feature\"] = reconstruct[\"feature\"].apply(lambda x: x[:feature_size])\n",
    "    print(\"Calculating Total Manual Error Rates\")\n",
    "    total_manual = manual_error_rate(reconstruct)\n",
    "\n",
    "    for sample_size in all_sample_sizes:\n",
    "        print(f\"## Sample size: {sample_size}\")\n",
    "        # ---- Sample Set ----\n",
    "        sample_set = reconstruct.sample(n=sample_size, random_state=42).reset_index(drop=True)\n",
    "\n",
    "        # ---- Error Pred Models ----\n",
    "        rf = RandomForestClassifier(random_state=42)\n",
    "        rf.fit(list(sample_set['feature']), sample_set['label'])\n",
    "        lr = LogisticRegression(random_state=42)\n",
    "        lr.fit(list(sample_set['feature']), sample_set['label'])\n",
    "\n",
    "        # ---- Calculate all 3 Error Rates ----\n",
    "        print(\"Calculating Sample Manual and Proba Error Rates\")\n",
    "        manual_sample, rf_sample, lr_sample = manual_error_rate(sample_set, models=[rf, lr], proba=True, diag=False)\n",
    "        manual_sample = repopulate_sample(manual_sample, total_manual)\n",
    "        rf_sample = repopulate_sample(rf_sample, total_manual, model=rf)\n",
    "        lr_sample = repopulate_sample(lr_sample, total_manual, model=lr)\n",
    "\n",
    "        rf_vs_mt = np.sum((total_manual[:, 1] - rf_sample[:, 1]) ** 2)\n",
    "        lr_vs_mt = np.sum((total_manual[:, 1] - lr_sample[:, 1]) ** 2)\n",
    "        ms_vs_mt = np.sum((total_manual[:, 1] - manual_sample[:, 1]) ** 2)\n",
    "\n",
    "        rf_ratio = rf_vs_mt / ms_vs_mt\n",
    "        lr_ratio = lr_vs_mt / ms_vs_mt\n",
    "        hardness = sample_size / (2 ** feature_size)\n",
    "        print(f\"-> RF Ratio: {rf_ratio:.2f}, LR Ratio: {lr_ratio:.2f}, Hardness: {hardness:.2f}\")\n",
    "        results.append([feature_size, sample_size, rf_ratio, lr_ratio, hardness])\n",
    "    \n",
    "    print()"
   ]
  },
  {
   "cell_type": "code",
   "execution_count": 123,
   "metadata": {},
   "outputs": [
    {
     "data": {
      "image/png": "[encoded data removed]",
      "text/plain": [
       "<Figure size 1200x500 with 2 Axes>"
      ]
     },
     "metadata": {},
     "output_type": "display_data"
    },
    {
     "name": "stdout",
     "output_type": "stream",
     "text": [
      "RF: 91.67% are below 1\n",
      "LR: 77.78% are below 1\n"
     ]
    }
   ],
   "source": [
    "np_results = np.array(results)\n",
    "\n",
    "fig, axes = plt.subplots(1, 2, figsize=(12, 5))\n",
    "\n",
    "# Left plot: using y column index 3\n",
    "sns.scatterplot(ax=axes[0],\n",
    "                x=np_results[:, 4],\n",
    "                y=np_results[:, 3],\n",
    "                hue=np_results[:, 3] < 1,\n",
    "                palette={True: 'green', False: 'red'},\n",
    "                legend=False)\n",
    "axes[0].set_xlabel('Hardness')\n",
    "axes[0].set_ylabel('Squared Error Ratio')\n",
    "axes[0].set_title('Logistic Regression', pad=20)\n",
    "axes[0].grid(True, linestyle='--', alpha=0.7)\n",
    "for spine in axes[0].spines.values():\n",
    "    spine.set_visible(False)\n",
    "# Apply log scale to both axes for left plot\n",
    "axes[0].set_xscale('log')\n",
    "axes[0].set_yscale('log')\n",
    "\n",
    "# Right plot: using y column index 2\n",
    "sns.scatterplot(ax=axes[1],\n",
    "                x=np_results[:, 4],\n",
    "                y=np_results[:, 2],\n",
    "                hue=np_results[:, 2] < 1,\n",
    "                palette={True: 'green', False: 'red'},\n",
    "                legend=False)\n",
    "axes[1].set_xlabel('Hardness')\n",
    "axes[1].set_ylabel('Squared Error Ratio')\n",
    "axes[1].set_title('Random Forest', pad=20)\n",
    "axes[1].grid(True, linestyle='--', alpha=0.7)\n",
    "for spine in axes[1].spines.values():\n",
    "    spine.set_visible(False)\n",
    "# Apply log scale to both axes for right plot\n",
    "axes[1].set_xscale('log')\n",
    "axes[1].set_yscale('log')\n",
    "\n",
    "plt.tight_layout()\n",
    "plt.show()\n",
    "\n",
    "rf_percentage = np.sum(np_results[:, 2] < 1) / len(np_results)\n",
    "lr_percentage = np.sum(np_results[:, 3] < 1) / len(np_results)\n",
    "print(f\"RF: {rf_percentage*100:.2f}% are below 1\")\n",
    "print(f\"LR: {lr_percentage*100:.2f}% are below 1\")\n",
    "\n",
    "\n",
    "#save results"
   ]
  }
 ],
 "metadata": {
  "kernelspec": {
   "display_name": "Python 3",
   "language": "python",
   "name": "python3"
  },
  "language_info": {
   "codemirror_mode": {
    "name": "ipython",
    "version": 3
   },
   "file_extension": ".py",
   "mimetype": "text/x-python",
   "name": "python",
   "nbconvert_exporter": "python",
   "pygments_lexer": "ipython3",
   "version": "3.11.11"
  }
 },
 "nbformat": 4,
 "nbformat_minor": 2
}
