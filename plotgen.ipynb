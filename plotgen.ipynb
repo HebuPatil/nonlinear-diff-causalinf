{
 "cells": [
  {
   "cell_type": "code",
   "execution_count": 32,
   "metadata": {},
   "outputs": [],
   "source": [
    "import pandas as pd\n",
    "import ast\n",
    "import numpy as np\n",
    "import seaborn as sns\n",
    "from itertools import product\n",
    "from tqdm import tqdm\n",
    "from sklearn.ensemble import RandomForestClassifier\n",
    "from sklearn.linear_model import LogisticRegression\n",
    "from sklearn.neighbors import KNeighborsClassifier\n",
    "\n",
    "\n",
    "import matplotlib.pyplot as plt\n",
    "\n"
   ]
  },
  {
   "cell_type": "code",
   "execution_count": 33,
   "metadata": {},
   "outputs": [],
   "source": [
    "def manual_error_rate(df, models=None, proba=False, diag=False):\n",
    "    features = df['feature']\n",
    "    labels = df['label']\n",
    "\n",
    "    arr_len = len(features[0])\n",
    "    tot_enumerations = 2**arr_len\n",
    "\n",
    "    permutations = list(product([0, 1], repeat=arr_len))\n",
    "\n",
    "    results = []\n",
    "    results_p_1 = []\n",
    "    results_p_2 = []\n",
    "    results_p_3 = [] ###\n",
    "\n",
    "    for perm in tqdm(permutations, total=tot_enumerations, desc=\"Processing permutations\"):\n",
    "        perm_array = np.array(perm)\n",
    "        count = 0\n",
    "        error_count = 0\n",
    "\n",
    "        for feature, label in zip(features, labels):\n",
    "            if np.array_equal(feature, perm_array):\n",
    "                count += 1\n",
    "                if label == 0:\n",
    "                    error_count += 1\n",
    "        if count > 0:\n",
    "          error_rate = (error_count / count)\n",
    "          results.append([perm, error_rate])\n",
    "          proba_score = 0\n",
    "          if proba:\n",
    "            # probability that prediction is 0\n",
    "            rf_score = models[0].predict_proba(np.array(perm).reshape(1, -1))[0][0]\n",
    "            lr_score = models[1].predict_proba(np.array(perm).reshape(1, -1))[0][0]\n",
    "            kn_score = models[2].predict_proba(np.array(perm).reshape(1, -1))[0][0]\n",
    "            results_p_1.append([perm, rf_score])\n",
    "            results_p_2.append([perm, lr_score])\n",
    "            results_p_3.append([perm, kn_score])\n",
    "          if diag: print(f\"permutation {perm}: manual error rate is {error_rate*100:.2f}%, proba_score is {proba_score*100:.2f}% appears {count} times\")\n",
    "\n",
    "    if proba: return np.array(results, dtype=object), np.array(results_p_1, dtype=object), np.array(results_p_2, dtype=object), np.array(results_p_3, dtype=object)\n",
    "    else: return np.array(results, dtype=object)\n",
    "\n",
    "\n",
    "def repopulate_sample(sample, total_manual, model=None):\n",
    "    tmp = []\n",
    "    avg_value = np.mean(sample[:, 1].astype(float))\n",
    "    for i, entry in enumerate(total_manual):\n",
    "        exist = next((row for row in sample if row[0] == entry[0]), None)\n",
    "        if exist is not None:\n",
    "            tmp.append([exist[0], exist[1]])\n",
    "        else:\n",
    "            if model is not None:\n",
    "                tmp.append([entry[0], model.predict_proba(np.array(entry[0]).reshape(1, -1))[0][0]])\n",
    "            else:\n",
    "                tmp.append([entry[0], avg_value])\n",
    "    return np.array(tmp, dtype=object)"
   ]
  },
  {
   "cell_type": "markdown",
   "metadata": {},
   "source": [
    "# Grid Search for Plot Generation"
   ]
  },
  {
   "cell_type": "code",
   "execution_count": 38,
   "metadata": {},
   "outputs": [
    {
     "name": "stdout",
     "output_type": "stream",
     "text": [
      " ---- Testing feature size: 4 ---- \n",
      "Calculating Total Manual Error Rates\n"
     ]
    },
    {
     "name": "stderr",
     "output_type": "stream",
     "text": [
      "Processing permutations: 100%|██████████| 16/16 [00:01<00:00, 14.18it/s]\n"
     ]
    },
    {
     "name": "stdout",
     "output_type": "stream",
     "text": [
      "## Sample size: 100\n",
      "Calculating Sample Manual and Proba Error Rates\n"
     ]
    },
    {
     "name": "stderr",
     "output_type": "stream",
     "text": [
      "Processing permutations: 100%|██████████| 16/16 [00:00<00:00, 973.11it/s]\n"
     ]
    },
    {
     "name": "stdout",
     "output_type": "stream",
     "text": [
      "-> RF Ratio: 1.60, LR Ratio: 1.23, KNN Ratio: 2.31, Hardness: 6.25\n",
      "## Sample size: 500\n",
      "Calculating Sample Manual and Proba Error Rates\n"
     ]
    },
    {
     "name": "stderr",
     "output_type": "stream",
     "text": [
      "Processing permutations: 100%|██████████| 16/16 [00:00<00:00, 517.73it/s]\n"
     ]
    },
    {
     "name": "stdout",
     "output_type": "stream",
     "text": [
      "-> RF Ratio: 1.75, LR Ratio: 2.73, KNN Ratio: 3.91, Hardness: 31.25\n",
      "## Sample size: 5000\n",
      "Calculating Sample Manual and Proba Error Rates\n"
     ]
    },
    {
     "name": "stderr",
     "output_type": "stream",
     "text": [
      "Processing permutations: 100%|██████████| 16/16 [00:00<00:00, 63.89it/s]\n"
     ]
    },
    {
     "name": "stdout",
     "output_type": "stream",
     "text": [
      "-> RF Ratio: 1.31, LR Ratio: 3.63, KNN Ratio: 2.53, Hardness: 312.50\n",
      "## Sample size: 10000\n",
      "Calculating Sample Manual and Proba Error Rates\n"
     ]
    },
    {
     "name": "stderr",
     "output_type": "stream",
     "text": [
      "Processing permutations: 100%|██████████| 16/16 [00:00<00:00, 36.29it/s]\n"
     ]
    },
    {
     "name": "stdout",
     "output_type": "stream",
     "text": [
      "-> RF Ratio: 1.71, LR Ratio: 3.82, KNN Ratio: 2.92, Hardness: 625.00\n",
      "\n",
      " ---- Testing feature size: 5 ---- \n",
      "Calculating Total Manual Error Rates\n"
     ]
    },
    {
     "name": "stderr",
     "output_type": "stream",
     "text": [
      "Processing permutations: 100%|██████████| 32/32 [00:02<00:00, 13.94it/s]\n"
     ]
    },
    {
     "name": "stdout",
     "output_type": "stream",
     "text": [
      "## Sample size: 100\n",
      "Calculating Sample Manual and Proba Error Rates\n"
     ]
    },
    {
     "name": "stderr",
     "output_type": "stream",
     "text": [
      "Processing permutations: 100%|██████████| 32/32 [00:00<00:00, 946.50it/s]\n"
     ]
    },
    {
     "name": "stdout",
     "output_type": "stream",
     "text": [
      "-> RF Ratio: 1.54, LR Ratio: 0.99, KNN Ratio: 1.85, Hardness: 3.12\n",
      "## Sample size: 500\n",
      "Calculating Sample Manual and Proba Error Rates\n"
     ]
    },
    {
     "name": "stderr",
     "output_type": "stream",
     "text": [
      "Processing permutations: 100%|██████████| 32/32 [00:00<00:00, 482.07it/s]\n"
     ]
    },
    {
     "name": "stdout",
     "output_type": "stream",
     "text": [
      "-> RF Ratio: 2.02, LR Ratio: 2.07, KNN Ratio: 4.51, Hardness: 15.62\n",
      "## Sample size: 5000\n",
      "Calculating Sample Manual and Proba Error Rates\n"
     ]
    },
    {
     "name": "stderr",
     "output_type": "stream",
     "text": [
      "Processing permutations: 100%|██████████| 32/32 [00:00<00:00, 75.00it/s]\n"
     ]
    },
    {
     "name": "stdout",
     "output_type": "stream",
     "text": [
      "-> RF Ratio: 0.54, LR Ratio: 1.47, KNN Ratio: 2.43, Hardness: 156.25\n",
      "## Sample size: 10000\n",
      "Calculating Sample Manual and Proba Error Rates\n"
     ]
    },
    {
     "name": "stderr",
     "output_type": "stream",
     "text": [
      "Processing permutations: 100%|██████████| 32/32 [00:00<00:00, 50.33it/s]\n"
     ]
    },
    {
     "name": "stdout",
     "output_type": "stream",
     "text": [
      "-> RF Ratio: 1.12, LR Ratio: 2.34, KNN Ratio: 3.86, Hardness: 312.50\n",
      "\n",
      " ---- Testing feature size: 6 ---- \n",
      "Calculating Total Manual Error Rates\n"
     ]
    },
    {
     "name": "stderr",
     "output_type": "stream",
     "text": [
      "Processing permutations: 100%|██████████| 64/64 [00:04<00:00, 13.59it/s]\n"
     ]
    },
    {
     "name": "stdout",
     "output_type": "stream",
     "text": [
      "## Sample size: 100\n",
      "Calculating Sample Manual and Proba Error Rates\n"
     ]
    },
    {
     "name": "stderr",
     "output_type": "stream",
     "text": [
      "Processing permutations: 100%|██████████| 64/64 [00:00<00:00, 1327.29it/s]\n"
     ]
    },
    {
     "name": "stdout",
     "output_type": "stream",
     "text": [
      "-> RF Ratio: 1.28, LR Ratio: 0.79, KNN Ratio: 1.83, Hardness: 1.56\n",
      "## Sample size: 500\n",
      "Calculating Sample Manual and Proba Error Rates\n"
     ]
    },
    {
     "name": "stderr",
     "output_type": "stream",
     "text": [
      "Processing permutations: 100%|██████████| 64/64 [00:00<00:00, 665.25it/s]\n"
     ]
    },
    {
     "name": "stdout",
     "output_type": "stream",
     "text": [
      "-> RF Ratio: 0.85, LR Ratio: 0.74, KNN Ratio: 1.75, Hardness: 7.81\n",
      "## Sample size: 5000\n",
      "Calculating Sample Manual and Proba Error Rates\n"
     ]
    },
    {
     "name": "stderr",
     "output_type": "stream",
     "text": [
      "Processing permutations: 100%|██████████| 64/64 [00:00<00:00, 93.55it/s] \n"
     ]
    },
    {
     "name": "stdout",
     "output_type": "stream",
     "text": [
      "-> RF Ratio: 0.60, LR Ratio: 1.23, KNN Ratio: 2.12, Hardness: 78.12\n",
      "## Sample size: 10000\n",
      "Calculating Sample Manual and Proba Error Rates\n"
     ]
    },
    {
     "name": "stderr",
     "output_type": "stream",
     "text": [
      "Processing permutations: 100%|██████████| 64/64 [00:01<00:00, 54.81it/s]\n"
     ]
    },
    {
     "name": "stdout",
     "output_type": "stream",
     "text": [
      "-> RF Ratio: 0.83, LR Ratio: 2.08, KNN Ratio: 3.40, Hardness: 156.25\n",
      "\n",
      " ---- Testing feature size: 7 ---- \n",
      "Calculating Total Manual Error Rates\n"
     ]
    },
    {
     "name": "stderr",
     "output_type": "stream",
     "text": [
      "Processing permutations: 100%|██████████| 128/128 [00:09<00:00, 13.46it/s]\n"
     ]
    },
    {
     "name": "stdout",
     "output_type": "stream",
     "text": [
      "## Sample size: 100\n",
      "Calculating Sample Manual and Proba Error Rates\n"
     ]
    },
    {
     "name": "stderr",
     "output_type": "stream",
     "text": [
      "Processing permutations: 100%|██████████| 128/128 [00:00<00:00, 1783.93it/s]\n"
     ]
    },
    {
     "name": "stdout",
     "output_type": "stream",
     "text": [
      "-> RF Ratio: 1.08, LR Ratio: 0.68, KNN Ratio: 1.38, Hardness: 0.78\n",
      "## Sample size: 500\n",
      "Calculating Sample Manual and Proba Error Rates\n"
     ]
    },
    {
     "name": "stderr",
     "output_type": "stream",
     "text": [
      "Processing permutations: 100%|██████████| 128/128 [00:00<00:00, 662.56it/s]\n"
     ]
    },
    {
     "name": "stdout",
     "output_type": "stream",
     "text": [
      "-> RF Ratio: 1.12, LR Ratio: 0.56, KNN Ratio: 1.49, Hardness: 3.91\n",
      "## Sample size: 5000\n",
      "Calculating Sample Manual and Proba Error Rates\n"
     ]
    },
    {
     "name": "stderr",
     "output_type": "stream",
     "text": [
      "Processing permutations: 100%|██████████| 128/128 [00:01<00:00, 102.45it/s]\n"
     ]
    },
    {
     "name": "stdout",
     "output_type": "stream",
     "text": [
      "-> RF Ratio: 0.92, LR Ratio: 1.23, KNN Ratio: 2.71, Hardness: 39.06\n",
      "## Sample size: 10000\n",
      "Calculating Sample Manual and Proba Error Rates\n"
     ]
    },
    {
     "name": "stderr",
     "output_type": "stream",
     "text": [
      "Processing permutations: 100%|██████████| 128/128 [00:02<00:00, 54.63it/s]\n"
     ]
    },
    {
     "name": "stdout",
     "output_type": "stream",
     "text": [
      "-> RF Ratio: 0.90, LR Ratio: 1.35, KNN Ratio: 2.59, Hardness: 78.12\n",
      "\n",
      " ---- Testing feature size: 8 ---- \n",
      "Calculating Total Manual Error Rates\n"
     ]
    },
    {
     "name": "stderr",
     "output_type": "stream",
     "text": [
      "Processing permutations: 100%|██████████| 256/256 [00:19<00:00, 13.39it/s]\n"
     ]
    },
    {
     "name": "stdout",
     "output_type": "stream",
     "text": [
      "## Sample size: 100\n",
      "Calculating Sample Manual and Proba Error Rates\n"
     ]
    },
    {
     "name": "stderr",
     "output_type": "stream",
     "text": [
      "Processing permutations: 100%|██████████| 256/256 [00:00<00:00, 2534.55it/s]\n"
     ]
    },
    {
     "name": "stdout",
     "output_type": "stream",
     "text": [
      "-> RF Ratio: 1.04, LR Ratio: 0.76, KNN Ratio: 1.37, Hardness: 0.39\n",
      "## Sample size: 500\n",
      "Calculating Sample Manual and Proba Error Rates\n"
     ]
    },
    {
     "name": "stderr",
     "output_type": "stream",
     "text": [
      "Processing permutations: 100%|██████████| 256/256 [00:00<00:00, 839.21it/s]\n"
     ]
    },
    {
     "name": "stdout",
     "output_type": "stream",
     "text": [
      "-> RF Ratio: 1.04, LR Ratio: 0.62, KNN Ratio: 1.26, Hardness: 1.95\n",
      "## Sample size: 5000\n",
      "Calculating Sample Manual and Proba Error Rates\n"
     ]
    },
    {
     "name": "stderr",
     "output_type": "stream",
     "text": [
      "Processing permutations: 100%|██████████| 256/256 [00:02<00:00, 109.19it/s]\n"
     ]
    },
    {
     "name": "stdout",
     "output_type": "stream",
     "text": [
      "-> RF Ratio: 0.83, LR Ratio: 0.82, KNN Ratio: 1.59, Hardness: 19.53\n",
      "## Sample size: 10000\n",
      "Calculating Sample Manual and Proba Error Rates\n"
     ]
    },
    {
     "name": "stderr",
     "output_type": "stream",
     "text": [
      "Processing permutations: 100%|██████████| 256/256 [00:04<00:00, 57.53it/s]\n"
     ]
    },
    {
     "name": "stdout",
     "output_type": "stream",
     "text": [
      "-> RF Ratio: 0.91, LR Ratio: 1.05, KNN Ratio: 1.70, Hardness: 39.06\n",
      "\n",
      " ---- Testing feature size: 9 ---- \n",
      "Calculating Total Manual Error Rates\n"
     ]
    },
    {
     "name": "stderr",
     "output_type": "stream",
     "text": [
      "Processing permutations: 100%|██████████| 512/512 [00:39<00:00, 13.04it/s]\n"
     ]
    },
    {
     "name": "stdout",
     "output_type": "stream",
     "text": [
      "## Sample size: 100\n",
      "Calculating Sample Manual and Proba Error Rates\n"
     ]
    },
    {
     "name": "stderr",
     "output_type": "stream",
     "text": [
      "Processing permutations: 100%|██████████| 512/512 [00:00<00:00, 3710.66it/s]\n"
     ]
    },
    {
     "name": "stdout",
     "output_type": "stream",
     "text": [
      "-> RF Ratio: 1.09, LR Ratio: 0.87, KNN Ratio: 1.45, Hardness: 0.20\n",
      "## Sample size: 500\n",
      "Calculating Sample Manual and Proba Error Rates\n"
     ]
    },
    {
     "name": "stderr",
     "output_type": "stream",
     "text": [
      "Processing permutations: 100%|██████████| 512/512 [00:00<00:00, 963.59it/s] \n"
     ]
    },
    {
     "name": "stdout",
     "output_type": "stream",
     "text": [
      "-> RF Ratio: 0.95, LR Ratio: 0.60, KNN Ratio: 1.10, Hardness: 0.98\n",
      "## Sample size: 5000\n",
      "Calculating Sample Manual and Proba Error Rates\n"
     ]
    },
    {
     "name": "stderr",
     "output_type": "stream",
     "text": [
      "Processing permutations: 100%|██████████| 512/512 [00:04<00:00, 111.55it/s]\n"
     ]
    },
    {
     "name": "stdout",
     "output_type": "stream",
     "text": [
      "-> RF Ratio: 0.79, LR Ratio: 0.64, KNN Ratio: 1.18, Hardness: 9.77\n",
      "## Sample size: 10000\n",
      "Calculating Sample Manual and Proba Error Rates\n"
     ]
    },
    {
     "name": "stderr",
     "output_type": "stream",
     "text": [
      "Processing permutations: 100%|██████████| 512/512 [00:08<00:00, 58.10it/s]\n"
     ]
    },
    {
     "name": "stdout",
     "output_type": "stream",
     "text": [
      "-> RF Ratio: 0.79, LR Ratio: 0.78, KNN Ratio: 1.19, Hardness: 19.53\n",
      "\n",
      " ---- Testing feature size: 10 ---- \n",
      "Calculating Total Manual Error Rates\n"
     ]
    },
    {
     "name": "stderr",
     "output_type": "stream",
     "text": [
      "Processing permutations: 100%|██████████| 1024/1024 [01:20<00:00, 12.68it/s]\n"
     ]
    },
    {
     "name": "stdout",
     "output_type": "stream",
     "text": [
      "## Sample size: 100\n",
      "Calculating Sample Manual and Proba Error Rates\n"
     ]
    },
    {
     "name": "stderr",
     "output_type": "stream",
     "text": [
      "Processing permutations: 100%|██████████| 1024/1024 [00:00<00:00, 3815.91it/s]\n"
     ]
    },
    {
     "name": "stdout",
     "output_type": "stream",
     "text": [
      "-> RF Ratio: 1.11, LR Ratio: 0.93, KNN Ratio: 1.56, Hardness: 0.10\n",
      "## Sample size: 500\n",
      "Calculating Sample Manual and Proba Error Rates\n"
     ]
    },
    {
     "name": "stderr",
     "output_type": "stream",
     "text": [
      "Processing permutations: 100%|██████████| 1024/1024 [00:01<00:00, 1022.48it/s]\n"
     ]
    },
    {
     "name": "stdout",
     "output_type": "stream",
     "text": [
      "-> RF Ratio: 1.02, LR Ratio: 0.67, KNN Ratio: 1.06, Hardness: 0.49\n",
      "## Sample size: 5000\n",
      "Calculating Sample Manual and Proba Error Rates\n"
     ]
    },
    {
     "name": "stderr",
     "output_type": "stream",
     "text": [
      "Processing permutations: 100%|██████████| 1024/1024 [00:09<00:00, 110.79it/s]\n"
     ]
    },
    {
     "name": "stdout",
     "output_type": "stream",
     "text": [
      "-> RF Ratio: 0.80, LR Ratio: 0.66, KNN Ratio: 1.03, Hardness: 4.88\n",
      "## Sample size: 10000\n",
      "Calculating Sample Manual and Proba Error Rates\n"
     ]
    },
    {
     "name": "stderr",
     "output_type": "stream",
     "text": [
      "Processing permutations: 100%|██████████| 1024/1024 [00:18<00:00, 56.74it/s]\n"
     ]
    },
    {
     "name": "stdout",
     "output_type": "stream",
     "text": [
      "-> RF Ratio: 0.79, LR Ratio: 0.74, KNN Ratio: 0.98, Hardness: 9.77\n",
      "\n",
      " ---- Testing feature size: 11 ---- \n",
      "Calculating Total Manual Error Rates\n"
     ]
    },
    {
     "name": "stderr",
     "output_type": "stream",
     "text": [
      "Processing permutations: 100%|██████████| 2048/2048 [02:46<00:00, 12.27it/s]\n"
     ]
    },
    {
     "name": "stdout",
     "output_type": "stream",
     "text": [
      "## Sample size: 100\n",
      "Calculating Sample Manual and Proba Error Rates\n"
     ]
    },
    {
     "name": "stderr",
     "output_type": "stream",
     "text": [
      "Processing permutations: 100%|██████████| 2048/2048 [00:00<00:00, 4629.02it/s]\n"
     ]
    },
    {
     "name": "stdout",
     "output_type": "stream",
     "text": [
      "-> RF Ratio: 1.09, LR Ratio: 0.98, KNN Ratio: 1.49, Hardness: 0.05\n",
      "## Sample size: 500\n",
      "Calculating Sample Manual and Proba Error Rates\n"
     ]
    },
    {
     "name": "stderr",
     "output_type": "stream",
     "text": [
      "Processing permutations: 100%|██████████| 2048/2048 [00:01<00:00, 1046.88it/s]\n"
     ]
    },
    {
     "name": "stdout",
     "output_type": "stream",
     "text": [
      "-> RF Ratio: 0.99, LR Ratio: 0.75, KNN Ratio: 1.06, Hardness: 0.24\n",
      "## Sample size: 5000\n",
      "Calculating Sample Manual and Proba Error Rates\n"
     ]
    },
    {
     "name": "stderr",
     "output_type": "stream",
     "text": [
      "Processing permutations: 100%|██████████| 2048/2048 [00:18<00:00, 111.86it/s]\n"
     ]
    },
    {
     "name": "stdout",
     "output_type": "stream",
     "text": [
      "-> RF Ratio: 0.76, LR Ratio: 0.70, KNN Ratio: 0.92, Hardness: 2.44\n",
      "## Sample size: 10000\n",
      "Calculating Sample Manual and Proba Error Rates\n"
     ]
    },
    {
     "name": "stderr",
     "output_type": "stream",
     "text": [
      "Processing permutations: 100%|██████████| 2048/2048 [00:36<00:00, 56.35it/s]\n"
     ]
    },
    {
     "name": "stdout",
     "output_type": "stream",
     "text": [
      "-> RF Ratio: 0.81, LR Ratio: 0.85, KNN Ratio: 0.97, Hardness: 4.88\n",
      "\n",
      " ---- Testing feature size: 12 ---- \n",
      "Calculating Total Manual Error Rates\n"
     ]
    },
    {
     "name": "stderr",
     "output_type": "stream",
     "text": [
      "Processing permutations: 100%|██████████| 4096/4096 [05:41<00:00, 12.01it/s]\n"
     ]
    },
    {
     "name": "stdout",
     "output_type": "stream",
     "text": [
      "## Sample size: 100\n",
      "Calculating Sample Manual and Proba Error Rates\n"
     ]
    },
    {
     "name": "stderr",
     "output_type": "stream",
     "text": [
      "Processing permutations: 100%|██████████| 4096/4096 [00:00<00:00, 5062.62it/s]\n"
     ]
    },
    {
     "name": "stdout",
     "output_type": "stream",
     "text": [
      "-> RF Ratio: 1.04, LR Ratio: 0.99, KNN Ratio: 1.28, Hardness: 0.02\n",
      "## Sample size: 500\n",
      "Calculating Sample Manual and Proba Error Rates\n"
     ]
    },
    {
     "name": "stderr",
     "output_type": "stream",
     "text": [
      "Processing permutations: 100%|██████████| 4096/4096 [00:03<00:00, 1098.58it/s]\n"
     ]
    },
    {
     "name": "stdout",
     "output_type": "stream",
     "text": [
      "-> RF Ratio: 1.04, LR Ratio: 0.83, KNN Ratio: 1.11, Hardness: 0.12\n",
      "## Sample size: 5000\n",
      "Calculating Sample Manual and Proba Error Rates\n"
     ]
    },
    {
     "name": "stderr",
     "output_type": "stream",
     "text": [
      "Processing permutations: 100%|██████████| 4096/4096 [00:38<00:00, 106.61it/s]\n"
     ]
    },
    {
     "name": "stdout",
     "output_type": "stream",
     "text": [
      "-> RF Ratio: 0.81, LR Ratio: 0.79, KNN Ratio: 0.99, Hardness: 1.22\n",
      "## Sample size: 10000\n",
      "Calculating Sample Manual and Proba Error Rates\n"
     ]
    },
    {
     "name": "stderr",
     "output_type": "stream",
     "text": [
      "Processing permutations: 100%|██████████| 4096/4096 [01:15<00:00, 54.29it/s]\n"
     ]
    },
    {
     "name": "stdout",
     "output_type": "stream",
     "text": [
      "-> RF Ratio: 0.84, LR Ratio: 0.94, KNN Ratio: 1.09, Hardness: 2.44\n",
      "\n"
     ]
    }
   ],
   "source": [
    "all_features = np.arange(4, 13)\n",
    "all_sample_sizes = [100, 500, 5000, 10000]\n",
    "\n",
    "\n",
    "orig_reconstruct = pd.read_csv(\"rec.csv\")\n",
    "orig_reconstruct[\"feature\"] = orig_reconstruct[\"feature\"].apply(ast.literal_eval)\n",
    "orig_reconstruct[\"feature\"] = orig_reconstruct[\"feature\"].apply(lambda x: x[-1:] + x[:-1])\n",
    "\n",
    "#grid search features and sample sizes (brute force all and get array of all combination [ratio, hardness])\n",
    "\n",
    "all_rfv = []\n",
    "all_rlv = []\n",
    "all_knv = []\n",
    "all_msv = []\n",
    "\n",
    "results = []\n",
    "for feature_size in all_features:\n",
    "    print(f\" ---- Testing feature size: {feature_size} ---- \")\n",
    "    # ---- Load CNN Model Preds ----\n",
    "    #clip each feature from the right (.ie if each feature has length 14 and i spefcify feature size of 12, remove the right 2 elements from each feature)\n",
    "    reconstruct = orig_reconstruct.copy()\n",
    "    reconstruct[\"feature\"] = reconstruct[\"feature\"].apply(lambda x: x[:feature_size])\n",
    "    print(\"Calculating Total Manual Error Rates\")\n",
    "    total_manual = manual_error_rate(reconstruct)\n",
    "\n",
    "    for sample_size in all_sample_sizes:\n",
    "        print(f\"## Sample size: {sample_size}\")\n",
    "        # ---- Sample Set ----\n",
    "        sample_set = reconstruct.sample(n=sample_size, random_state=42).reset_index(drop=True)\n",
    "\n",
    "        # ---- Error Pred Models ----\n",
    "        rf = RandomForestClassifier(random_state=42)\n",
    "        rf.fit(list(sample_set['feature']), sample_set['label'])\n",
    "        lr = LogisticRegression(random_state=42)\n",
    "        lr.fit(list(sample_set['feature']), sample_set['label'])\n",
    "        knn = KNeighborsClassifier() ###\n",
    "        knn.fit(list(sample_set['feature']), sample_set['label']) ###\n",
    "        \n",
    "\n",
    "        # ---- Calculate all 3 Error Rates ----\n",
    "        print(\"Calculating Sample Manual and Proba Error Rates\")\n",
    "        manual_sample, rf_sample, lr_sample, knn_sample = manual_error_rate(sample_set, models=[rf, lr, knn], proba=True, diag=False)\n",
    "        manual_sample = repopulate_sample(manual_sample, total_manual)\n",
    "        rf_sample = repopulate_sample(rf_sample, total_manual, model=rf)\n",
    "        lr_sample = repopulate_sample(lr_sample, total_manual, model=lr)\n",
    "        knn_sample = repopulate_sample(knn_sample, total_manual, model=knn)\n",
    "\n",
    "        rf_vs_mt = np.sum((total_manual[:, 1] - rf_sample[:, 1]) ** 2)\n",
    "        lr_vs_mt = np.sum((total_manual[:, 1] - lr_sample[:, 1]) ** 2)\n",
    "        knn_vs_mt = np.sum((total_manual[:, 1] - knn_sample[:, 1]) ** 2)\n",
    "        ms_vs_mt = np.sum((total_manual[:, 1] - manual_sample[:, 1]) ** 2)\n",
    "\n",
    "        all_rfv.append(rf_vs_mt)\n",
    "        all_rlv.append(lr_vs_mt)\n",
    "        all_knv.append(knn_vs_mt)\n",
    "        all_msv.append(ms_vs_mt)\n",
    "\n",
    "        rf_ratio = rf_vs_mt / ms_vs_mt\n",
    "        lr_ratio = lr_vs_mt / ms_vs_mt\n",
    "        knn_ratio = knn_vs_mt / ms_vs_mt\n",
    "        hardness = sample_size / (2 ** feature_size)\n",
    "        print(f\"-> RF Ratio: {rf_ratio:.2f}, LR Ratio: {lr_ratio:.2f}, KNN Ratio: {knn_ratio:.2f}, Hardness: {hardness:.2f}\")\n",
    "        results.append([feature_size, sample_size, rf_ratio, lr_ratio, knn_ratio, hardness])\n",
    "    \n",
    "    print()"
   ]
  },
  {
   "cell_type": "code",
   "execution_count": 41,
   "metadata": {},
   "outputs": [
    {
     "data": {
      "image/png": "[encoded data removed]",
      "text/plain": [
       "<Figure size 1000x600 with 1 Axes>"
      ]
     },
     "metadata": {},
     "output_type": "display_data"
    }
   ],
   "source": [
    "#plot absolute values of allrfv, allrlv, allknv, allmsv vs hardness and plot them in different colors\n",
    "\n",
    "results = np.array(results)\n",
    "all_rfv = np.array(all_rfv)\n",
    "all_rlv = np.array(all_rlv)\n",
    "all_knv = np.array(all_knv)\n",
    "all_msv = np.array(all_msv)\n",
    "\n",
    "plt.figure(figsize=(10, 6))\n",
    "plt.scatter(abs(all_rfv), results[:, 5], color='red', label='RF')\n",
    "plt.scatter(abs(all_rlv), results[:, 5], color='blue', label='LR')\n",
    "plt.scatter(abs(all_knv), results[:, 5], color='green', label='KNN')\n",
    "plt.scatter(abs(all_msv), results[:, 5], color='black', label='Manual')\n",
    "plt.xlabel('Absolute Error')\n",
    "plt.ylabel('Hardness')\n",
    "#log scale\n",
    "plt.xscale('log')\n",
    "plt.yscale('log')\n",
    "\n",
    "plt.legend()\n",
    "plt.show()\n",
    "\n"
   ]
  },
  {
   "cell_type": "code",
   "execution_count": 36,
   "metadata": {},
   "outputs": [
    {
     "data": {
      "image/png": "[encoded data removed]",
      "text/plain": [
       "<Figure size 1200x500 with 3 Axes>"
      ]
     },
     "metadata": {},
     "output_type": "display_data"
    },
    {
     "name": "stdout",
     "output_type": "stream",
     "text": [
      "RF: 50.00% are below 1\n",
      "LR: 66.67% are below 1\n",
      "KNN: 11.11% are below 1\n"
     ]
    }
   ],
   "source": [
    "np_results = np.array(results)\n",
    "\n",
    "fig, axes = plt.subplots(1, 3, figsize=(12, 5))\n",
    "\n",
    "# Left plot: using y column index 3\n",
    "sns.scatterplot(ax=axes[0],\n",
    "                x=np_results[:, 5],\n",
    "                y=np_results[:, 3],\n",
    "                hue=np_results[:, 3] < 1,\n",
    "                palette={True: 'green', False: 'red'},\n",
    "                legend=False)\n",
    "axes[0].set_xlabel('Hardness')\n",
    "axes[0].set_ylabel('Squared Error Ratio')\n",
    "axes[0].set_title('Logistic Regression', pad=20)\n",
    "axes[0].grid(True, linestyle='--', alpha=0.7)\n",
    "for spine in axes[0].spines.values():\n",
    "    spine.set_visible(False)\n",
    "# Apply log scale to both axes for left plot\n",
    "axes[0].set_xscale('log')\n",
    "axes[0].set_yscale('log')\n",
    "\n",
    "# Right plot: using y column index 2\n",
    "sns.scatterplot(ax=axes[1],\n",
    "                x=np_results[:, 5],\n",
    "                y=np_results[:, 2],\n",
    "                hue=np_results[:, 2] < 1,\n",
    "                palette={True: 'green', False: 'red'},\n",
    "                legend=False)\n",
    "axes[1].set_xlabel('Hardness')\n",
    "axes[1].set_ylabel('Squared Error Ratio')\n",
    "axes[1].set_title('Random Forest', pad=20)\n",
    "axes[1].grid(True, linestyle='--', alpha=0.7)\n",
    "for spine in axes[1].spines.values():\n",
    "    spine.set_visible(False)\n",
    "# Apply log scale to both axes for right plot\n",
    "axes[1].set_xscale('log')\n",
    "axes[1].set_yscale('log')\n",
    "\n",
    "sns.scatterplot(ax=axes[2],\n",
    "                x=np_results[:, 5],\n",
    "                y=np_results[:, 4],\n",
    "                hue=np_results[:, 4] < 1,\n",
    "                palette={True: 'green', False: 'red'},\n",
    "                legend=False)\n",
    "axes[2].set_xlabel('Hardness')\n",
    "axes[2].set_ylabel('Squared Error Ratio')\n",
    "axes[2].set_title('KNN', pad=20)\n",
    "axes[2].grid(True, linestyle='--', alpha=0.7)\n",
    "for spine in axes[2].spines.values():\n",
    "    spine.set_visible(False)\n",
    "# Apply log scale to both axes for right plot\n",
    "axes[2].set_xscale('log')\n",
    "axes[2].set_yscale('log')\n",
    "\n",
    "\n",
    "plt.tight_layout()\n",
    "plt.show()\n",
    "\n",
    "rf_percentage = np.sum(np_results[:, 2] < 1) / len(np_results)\n",
    "lr_percentage = np.sum(np_results[:, 3] < 1) / len(np_results)\n",
    "knn_percentage = np.sum(np_results[:, 4] < 1) / len(np_results)\n",
    "print(f\"RF: {rf_percentage*100:.2f}% are below 1\")\n",
    "print(f\"LR: {lr_percentage*100:.2f}% are below 1\")\n",
    "print(f\"KNN: {knn_percentage*100:.2f}% are below 1\")\n",
    "\n",
    "\n",
    "#save results"
   ]
  },
  {
   "cell_type": "code",
   "execution_count": null,
   "metadata": {},
   "outputs": [],
   "source": []
  }
 ],
 "metadata": {
  "kernelspec": {
   "display_name": "Python 3",
   "language": "python",
   "name": "python3"
  },
  "language_info": {
   "codemirror_mode": {
    "name": "ipython",
    "version": 3
   },
   "file_extension": ".py",
   "mimetype": "text/x-python",
   "name": "python",
   "nbconvert_exporter": "python",
   "pygments_lexer": "ipython3",
   "version": "3.11.11"
  }
 },
 "nbformat": 4,
 "nbformat_minor": 2
}
